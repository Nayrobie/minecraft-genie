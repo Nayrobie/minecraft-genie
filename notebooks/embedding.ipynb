{
 "cells": [
  {
   "cell_type": "markdown",
   "id": "374f335d",
   "metadata": {},
   "source": [
    "# Minecraft Genie - Embedding & Query Testing\n",
    "\n",
    "This notebook demonstrates how to work with the Minecraft Lore vector database using ChromaDB and LlamaIndex.\n",
    "\n",
    "## Overview\n",
    "- **Purpose**: Load persisted vector embeddings of Minecraft lore and test querying functionality\n",
    "- **Technology Stack**: ChromaDB for vector storage, LlamaIndex for indexing/querying, OpenAI embeddings\n",
    "- **Data**: Minecraft lore documents embedded as vectors for semantic search\n",
    "\n",
    "## Workflow\n",
    "1. **Setup**: Import necessary modules and configure paths\n",
    "2. **Load Database**: Connect to persisted ChromaDB vector store\n",
    "3. **Query Testing**: Test semantic search capabilities on Minecraft lore data"
   ]
  },
  {
   "cell_type": "code",
   "execution_count": 1,
   "id": "9bbdbff8",
   "metadata": {},
   "outputs": [],
   "source": [
    "# Setup\n",
    "import sys\n",
    "from pathlib import Path\n",
    "\n",
    "project_root = Path(\"..\").resolve()\n",
    "sys.path.insert(0, str(project_root))\n",
    "\n",
    "from data.embedder import build_vector_index, load_lore_json\n",
    "from llama_index.vector_stores.chroma import ChromaVectorStore\n",
    "from llama_index.core import VectorStoreIndex, StorageContext\n",
    "from llama_index.embeddings.openai import OpenAIEmbedding\n",
    "from llama_index.core.llms import MockLLM\n",
    "import chromadb"
   ]
  },
  {
   "cell_type": "markdown",
   "id": "489ec049",
   "metadata": {},
   "source": [
    "## Loading Persisted Vector Database\n",
    "\n",
    "The next cell connects to an already-created ChromaDB database containing Minecraft lore embeddings. The database was created using the `build_vector_index()` function from the `data.embedder` module.\n",
    "\n",
    "**Key Components:**\n",
    "- **ChromaDB**: Vector database storing document embeddings\n",
    "- **PersistentClient**: Connects to the existing database file\n",
    "- **Collection**: Named container (\"minecraft_lore\") holding the embedded documents\n",
    "- **VectorStoreIndex**: LlamaIndex interface for querying the vector store"
   ]
  },
  {
   "cell_type": "code",
   "execution_count": 2,
   "id": "53b0c9de",
   "metadata": {},
   "outputs": [],
   "source": [
    "# Create persistent client to connect to existing database\n",
    "client = chromadb.PersistentClient(path=\"../db/minecraft_lore\")\n",
    "\n",
    "# Get the existing collection\n",
    "collection = client.get_collection(\"minecraft_lore\")\n",
    "\n",
    "# Create vector store with the existing collection\n",
    "vector_store = ChromaVectorStore(chroma_collection=collection)\n",
    "storage_context = StorageContext.from_defaults(vector_store=vector_store)\n",
    "index = VectorStoreIndex.from_vector_store(vector_store, storage_context=storage_context)"
   ]
  },
  {
   "cell_type": "markdown",
   "id": "de7b3607",
   "metadata": {},
   "source": [
    "## Semantic Search Testing\n",
    "\n",
    "Now we can test the semantic search capabilities by creating a query engine and asking questions about Minecraft lore. The query engine will:\n",
    "\n",
    "1. **Embed the query**: Convert the question into a vector using the same embedding model\n",
    "2. **Find similar vectors**: Search the database for the most relevant document chunks\n",
    "3. **Generate response**: Use the retrieved context to provide an informed answer\n",
    "\n",
    "Let's test with a question about creepers!"
   ]
  },
  {
   "cell_type": "code",
   "execution_count": null,
   "id": "0c079ec8",
   "metadata": {},
   "outputs": [
    {
     "name": "stdout",
     "output_type": "stream",
     "text": [
      "https://minecraft.wiki/w/Trading\n",
      "The experience level a villager needs to become a Master is 250.\n",
      "14 ×Raw Chicken\n",
      "The probability of having the dried kelp block trade with the expert butcher is 100%.\n",
      "Yes, the Curse of Vanishing is tradable.\n",
      "The Impaling enchantment max level is 5.\n",
      "Mending, Unbreaking III, and Silk Touch are the enchantments that can be combined on a pickaxe.\n",
      "Multishot and Piercing\n"
     ]
    }
   ],
   "source": [
    "query_engine = index.as_query_engine()\n",
    "r = query_engine.query(\"Give me the trading link\")\n",
    "print(str(r)) # https://minecraft.wiki/w/Trading"
   ]
  }
 ],
 "metadata": {
  "kernelspec": {
   "display_name": "mc-genie",
   "language": "python",
   "name": "python3"
  },
  "language_info": {
   "codemirror_mode": {
    "name": "ipython",
    "version": 3
   },
   "file_extension": ".py",
   "mimetype": "text/x-python",
   "name": "python",
   "nbconvert_exporter": "python",
   "pygments_lexer": "ipython3",
   "version": "3.12.11"
  }
 },
 "nbformat": 4,
 "nbformat_minor": 5
}
