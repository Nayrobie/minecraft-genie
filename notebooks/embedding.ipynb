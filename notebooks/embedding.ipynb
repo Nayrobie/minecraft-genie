{
 "cells": [
  {
   "cell_type": "code",
   "execution_count": 6,
   "id": "9bbdbff8",
   "metadata": {},
   "outputs": [],
   "source": [
    "# Setup\n",
    "import sys\n",
    "from pathlib import Path\n",
    "\n",
    "# Add the project root to the path\n",
    "project_root = Path(\"..\").resolve()\n",
    "sys.path.insert(0, str(project_root))\n",
    "\n",
    "from data.embedder import build_vector_index, load_lore_json\n",
    "from llama_index.vector_stores.chroma import ChromaVectorStore\n",
    "from llama_index.core import VectorStoreIndex, StorageContext\n",
    "from llama_index.embeddings.openai import OpenAIEmbedding\n",
    "from llama_index.core.llms import MockLLM\n",
    "import chromadb"
   ]
  },
  {
   "cell_type": "code",
   "execution_count": null,
   "id": "00435ac2",
   "metadata": {},
   "outputs": [],
   "source": [
    "# Load and build index (if not done already)\n",
    "lore_data = load_lore_json(Path(\"data/lore.json\"))\n",
    "index = build_vector_index(lore_data)"
   ]
  },
  {
   "cell_type": "code",
   "execution_count": null,
   "id": "53b0c9de",
   "metadata": {},
   "outputs": [],
   "source": [
    "# Load from persisted DB\n",
    "vector_store = ChromaVectorStore(persist_dir=\"db/minecraft_lore\")\n",
    "storage_context = StorageContext.from_defaults(vector_store=vector_store)\n",
    "index = VectorStoreIndex.from_vector_store(vector_store, storage_context=storage_context)"
   ]
  },
  {
   "cell_type": "code",
   "execution_count": null,
   "id": "0c079ec8",
   "metadata": {},
   "outputs": [],
   "source": [
    "# Query test\n",
    "query_engine = index.as_query_engine()\n",
    "response = query_engine.query(\"What is a creeper?\")\n",
    "print(str(response))"
   ]
  }
 ],
 "metadata": {
  "kernelspec": {
   "display_name": "mc-genie",
   "language": "python",
   "name": "python3"
  },
  "language_info": {
   "codemirror_mode": {
    "name": "ipython",
    "version": 3
   },
   "file_extension": ".py",
   "mimetype": "text/x-python",
   "name": "python",
   "nbconvert_exporter": "python",
   "pygments_lexer": "ipython3",
   "version": "3.12.11"
  }
 },
 "nbformat": 4,
 "nbformat_minor": 5
}
